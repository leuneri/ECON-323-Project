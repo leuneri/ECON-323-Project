{
 "cells": [
  {
   "cell_type": "markdown",
   "id": "31089763-f082-4f8a-9095-b5a0bf73834f",
   "metadata": {},
   "source": [
    "# ECON 323 Final Project\n",
    "## Predictive Modeling with Linear Algebra: Causalities between Covid-19 cases with Population, Age, and Gender"
   ]
  },
  {
   "cell_type": "markdown",
   "id": "1e7aa521-03ab-4a30-980d-a82ea250fa33",
   "metadata": {},
   "source": [
    "In May 2020, British Columbia distributed their first doses of the Covid-19 vaccines but targeted people in areas deemed as \"high-transmission neighborhoods\" to get the vaccine first. I didn't live in a high-transmission neighborhood but I lived exactly across the street from one; I could look down from my window and see the street that divides our neighborhoods.\n",
    "\n",
    "The question I am trying to answer is: \"What could be some factors which made the neighborhood right across the street more likely to have Covid-19 cases than where I am living?\"\n",
    "\n",
    "To test this, I took a data set issued by the German government which surveyed people who had caught Covid-19 and which have some variables which I may conduct regression analyses on. "
   ]
  },
  {
   "cell_type": "code",
   "execution_count": 1,
   "id": "bc972a13-c38b-4822-9898-dd91a38960e9",
   "metadata": {},
   "outputs": [],
   "source": [
    "import matplotlib.pyplot as plt\n",
    "import numpy as np\n",
    "import pandas as pd\n",
    "import scipy.linalg as la\n",
    "\n",
    "%matplotlib inline"
   ]
  },
  {
   "cell_type": "code",
   "execution_count": 2,
   "id": "f86c28de-f519-4233-8fbe-fb24b5dd18d9",
   "metadata": {},
   "outputs": [
    {
     "data": {
      "text/html": [
       "<div>\n",
       "<style scoped>\n",
       "    .dataframe tbody tr th:only-of-type {\n",
       "        vertical-align: middle;\n",
       "    }\n",
       "\n",
       "    .dataframe tbody tr th {\n",
       "        vertical-align: top;\n",
       "    }\n",
       "\n",
       "    .dataframe thead th {\n",
       "        text-align: right;\n",
       "    }\n",
       "</style>\n",
       "<table border=\"1\" class=\"dataframe\">\n",
       "  <thead>\n",
       "    <tr style=\"text-align: right;\">\n",
       "      <th></th>\n",
       "      <th>state</th>\n",
       "      <th>county</th>\n",
       "      <th>age_group</th>\n",
       "      <th>gender</th>\n",
       "      <th>date</th>\n",
       "      <th>cases</th>\n",
       "      <th>deaths</th>\n",
       "      <th>recovered</th>\n",
       "    </tr>\n",
       "  </thead>\n",
       "  <tbody>\n",
       "    <tr>\n",
       "      <th>0</th>\n",
       "      <td>Baden-Wuerttemberg</td>\n",
       "      <td>LK Alb-Donau-Kreis</td>\n",
       "      <td>00-04</td>\n",
       "      <td>F</td>\n",
       "      <td>2020-03-27</td>\n",
       "      <td>1</td>\n",
       "      <td>0</td>\n",
       "      <td>1</td>\n",
       "    </tr>\n",
       "    <tr>\n",
       "      <th>1</th>\n",
       "      <td>Baden-Wuerttemberg</td>\n",
       "      <td>LK Alb-Donau-Kreis</td>\n",
       "      <td>00-04</td>\n",
       "      <td>F</td>\n",
       "      <td>2020-03-28</td>\n",
       "      <td>1</td>\n",
       "      <td>0</td>\n",
       "      <td>1</td>\n",
       "    </tr>\n",
       "    <tr>\n",
       "      <th>2</th>\n",
       "      <td>Baden-Wuerttemberg</td>\n",
       "      <td>LK Alb-Donau-Kreis</td>\n",
       "      <td>00-04</td>\n",
       "      <td>F</td>\n",
       "      <td>2020-04-03</td>\n",
       "      <td>1</td>\n",
       "      <td>0</td>\n",
       "      <td>1</td>\n",
       "    </tr>\n",
       "    <tr>\n",
       "      <th>3</th>\n",
       "      <td>Baden-Wuerttemberg</td>\n",
       "      <td>LK Alb-Donau-Kreis</td>\n",
       "      <td>00-04</td>\n",
       "      <td>F</td>\n",
       "      <td>2020-10-18</td>\n",
       "      <td>1</td>\n",
       "      <td>0</td>\n",
       "      <td>1</td>\n",
       "    </tr>\n",
       "    <tr>\n",
       "      <th>4</th>\n",
       "      <td>Baden-Wuerttemberg</td>\n",
       "      <td>LK Alb-Donau-Kreis</td>\n",
       "      <td>00-04</td>\n",
       "      <td>F</td>\n",
       "      <td>2020-10-22</td>\n",
       "      <td>1</td>\n",
       "      <td>0</td>\n",
       "      <td>1</td>\n",
       "    </tr>\n",
       "  </tbody>\n",
       "</table>\n",
       "</div>"
      ],
      "text/plain": [
       "                state              county age_group gender        date  cases  \\\n",
       "0  Baden-Wuerttemberg  LK Alb-Donau-Kreis     00-04      F  2020-03-27      1   \n",
       "1  Baden-Wuerttemberg  LK Alb-Donau-Kreis     00-04      F  2020-03-28      1   \n",
       "2  Baden-Wuerttemberg  LK Alb-Donau-Kreis     00-04      F  2020-04-03      1   \n",
       "3  Baden-Wuerttemberg  LK Alb-Donau-Kreis     00-04      F  2020-10-18      1   \n",
       "4  Baden-Wuerttemberg  LK Alb-Donau-Kreis     00-04      F  2020-10-22      1   \n",
       "\n",
       "   deaths  recovered  \n",
       "0       0          1  \n",
       "1       0          1  \n",
       "2       0          1  \n",
       "3       0          1  \n",
       "4       0          1  "
      ]
     },
     "execution_count": 2,
     "metadata": {},
     "output_type": "execute_result"
    }
   ],
   "source": [
    "df = pd.read_csv('covid_germany.csv')\n",
    "df.head()"
   ]
  },
  {
   "cell_type": "markdown",
   "id": "42b4119c-d208-4e64-a92c-7034ca26dedc",
   "metadata": {},
   "source": [
    "### Data Cleaning and Wrangling"
   ]
  },
  {
   "cell_type": "markdown",
   "id": "36c30d27-e76f-4377-9232-09082c552692",
   "metadata": {},
   "source": [
    "I took the span of a bit over a year to be constant (although further research could be insightful on time series). Deaths and recovery has no concern to causality to catching Covid-19, so it is not in the dataframe. I divided areas by state as there are hundreds of different counties."
   ]
  },
  {
   "cell_type": "code",
   "execution_count": 3,
   "id": "e9ae29f7-5c3b-42bd-a71a-4bbfb4c9197a",
   "metadata": {},
   "outputs": [
    {
     "name": "stdout",
     "output_type": "stream",
     "text": [
      "                state age_group gender  cases\n",
      "0  Baden-Wuerttemberg     00-04      F      1\n",
      "1  Baden-Wuerttemberg     00-04      F      1\n",
      "2  Baden-Wuerttemberg     00-04      F      1\n",
      "3  Baden-Wuerttemberg     00-04      F      1\n",
      "4  Baden-Wuerttemberg     00-04      F      1\n",
      "16\n"
     ]
    },
    {
     "data": {
      "text/plain": [
       "array(['Baden-Wuerttemberg', 'Bayern', 'Berlin', 'Brandenburg', 'Bremen',\n",
       "       'Hamburg', 'Hessen', 'Mecklenburg-Vorpommern', 'Niedersachsen',\n",
       "       'Nordrhein-Westfalen', 'Rheinland-Pfalz', 'Saarland', 'Sachsen',\n",
       "       'Sachsen-Anhalt', 'Schleswig-Holstein', 'Thueringen'], dtype=object)"
      ]
     },
     "execution_count": 3,
     "metadata": {},
     "output_type": "execute_result"
    }
   ],
   "source": [
    "data = {'state': df['state'], 'age_group': df['age_group'], 'gender': df['gender'], 'cases': df['cases']}\n",
    "df = pd.DataFrame.from_dict(data)\n",
    "print(df.head())\n",
    "print(len(df['state'].unique()))\n",
    "df['state'].unique()"
   ]
  },
  {
   "cell_type": "markdown",
   "id": "58024521-1583-4c51-a12a-95c769aa37cd",
   "metadata": {},
   "source": [
    "For the purposes of our data, I will choose to delete rows with missing data although they are missing at random. I recognize that this will bring bias to the parameters."
   ]
  },
  {
   "cell_type": "code",
   "execution_count": 4,
   "id": "3d8d5c74-6bd2-4e3c-ab54-faaec1730e91",
   "metadata": {},
   "outputs": [
    {
     "name": "stdout",
     "output_type": "stream",
     "text": [
      "True\n",
      "True\n",
      "False\n"
     ]
    }
   ],
   "source": [
    "print(df['age_group'].isnull().values.any())\n",
    "print(df['gender'].isnull().values.any())\n",
    "print(df['cases'].isnull().values.any())"
   ]
  },
  {
   "cell_type": "code",
   "execution_count": 5,
   "id": "dd4cb3c1-91e0-49a6-b24a-c24d1605d8e3",
   "metadata": {},
   "outputs": [
    {
     "data": {
      "text/html": [
       "<div>\n",
       "<style scoped>\n",
       "    .dataframe tbody tr th:only-of-type {\n",
       "        vertical-align: middle;\n",
       "    }\n",
       "\n",
       "    .dataframe tbody tr th {\n",
       "        vertical-align: top;\n",
       "    }\n",
       "\n",
       "    .dataframe thead th {\n",
       "        text-align: right;\n",
       "    }\n",
       "</style>\n",
       "<table border=\"1\" class=\"dataframe\">\n",
       "  <thead>\n",
       "    <tr style=\"text-align: right;\">\n",
       "      <th></th>\n",
       "      <th>state</th>\n",
       "      <th>age_group</th>\n",
       "      <th>gender</th>\n",
       "      <th>cases</th>\n",
       "    </tr>\n",
       "  </thead>\n",
       "  <tbody>\n",
       "    <tr>\n",
       "      <th>0</th>\n",
       "      <td>Baden-Wuerttemberg</td>\n",
       "      <td>00-04</td>\n",
       "      <td>F</td>\n",
       "      <td>1</td>\n",
       "    </tr>\n",
       "    <tr>\n",
       "      <th>1</th>\n",
       "      <td>Baden-Wuerttemberg</td>\n",
       "      <td>00-04</td>\n",
       "      <td>F</td>\n",
       "      <td>1</td>\n",
       "    </tr>\n",
       "    <tr>\n",
       "      <th>2</th>\n",
       "      <td>Baden-Wuerttemberg</td>\n",
       "      <td>00-04</td>\n",
       "      <td>F</td>\n",
       "      <td>1</td>\n",
       "    </tr>\n",
       "    <tr>\n",
       "      <th>3</th>\n",
       "      <td>Baden-Wuerttemberg</td>\n",
       "      <td>00-04</td>\n",
       "      <td>F</td>\n",
       "      <td>1</td>\n",
       "    </tr>\n",
       "    <tr>\n",
       "      <th>4</th>\n",
       "      <td>Baden-Wuerttemberg</td>\n",
       "      <td>00-04</td>\n",
       "      <td>F</td>\n",
       "      <td>1</td>\n",
       "    </tr>\n",
       "    <tr>\n",
       "      <th>...</th>\n",
       "      <td>...</td>\n",
       "      <td>...</td>\n",
       "      <td>...</td>\n",
       "      <td>...</td>\n",
       "    </tr>\n",
       "    <tr>\n",
       "      <th>1923869</th>\n",
       "      <td>Thueringen</td>\n",
       "      <td>80-99</td>\n",
       "      <td>M</td>\n",
       "      <td>4</td>\n",
       "    </tr>\n",
       "    <tr>\n",
       "      <th>1923870</th>\n",
       "      <td>Thueringen</td>\n",
       "      <td>80-99</td>\n",
       "      <td>M</td>\n",
       "      <td>2</td>\n",
       "    </tr>\n",
       "    <tr>\n",
       "      <th>1923871</th>\n",
       "      <td>Thueringen</td>\n",
       "      <td>80-99</td>\n",
       "      <td>M</td>\n",
       "      <td>2</td>\n",
       "    </tr>\n",
       "    <tr>\n",
       "      <th>1923872</th>\n",
       "      <td>Thueringen</td>\n",
       "      <td>80-99</td>\n",
       "      <td>M</td>\n",
       "      <td>3</td>\n",
       "    </tr>\n",
       "    <tr>\n",
       "      <th>1923873</th>\n",
       "      <td>Thueringen</td>\n",
       "      <td>80-99</td>\n",
       "      <td>M</td>\n",
       "      <td>2</td>\n",
       "    </tr>\n",
       "  </tbody>\n",
       "</table>\n",
       "<p>1826139 rows × 4 columns</p>\n",
       "</div>"
      ],
      "text/plain": [
       "                      state age_group gender  cases\n",
       "0        Baden-Wuerttemberg     00-04      F      1\n",
       "1        Baden-Wuerttemberg     00-04      F      1\n",
       "2        Baden-Wuerttemberg     00-04      F      1\n",
       "3        Baden-Wuerttemberg     00-04      F      1\n",
       "4        Baden-Wuerttemberg     00-04      F      1\n",
       "...                     ...       ...    ...    ...\n",
       "1923869          Thueringen     80-99      M      4\n",
       "1923870          Thueringen     80-99      M      2\n",
       "1923871          Thueringen     80-99      M      2\n",
       "1923872          Thueringen     80-99      M      3\n",
       "1923873          Thueringen     80-99      M      2\n",
       "\n",
       "[1826139 rows x 4 columns]"
      ]
     },
     "execution_count": 5,
     "metadata": {},
     "output_type": "execute_result"
    }
   ],
   "source": [
    "df = df.dropna(axis='rows')\n",
    "df"
   ]
  },
  {
   "cell_type": "code",
   "execution_count": 6,
   "id": "8e80d7ee-e818-49d9-b1a8-56aa3bdf2def",
   "metadata": {},
   "outputs": [
    {
     "name": "stdout",
     "output_type": "stream",
     "text": [
      "False\n",
      "False\n"
     ]
    }
   ],
   "source": [
    "print(df['age_group'].isnull().values.any())\n",
    "print(df['gender'].isnull().values.any())"
   ]
  },
  {
   "cell_type": "markdown",
   "id": "b77c8802-7d4f-4968-8872-2ff3fb83dbda",
   "metadata": {},
   "source": [
    "I divided data for age group into two for lower and upper bound, took the sum of cases where all other variables (state, gender, age_group) are the same, and I changed gender to numbers so that they can be used as input in regressions."
   ]
  },
  {
   "cell_type": "markdown",
   "id": "c102129a-0924-4c57-a78f-0243bc842310",
   "metadata": {},
   "source": [
    "Gender: F - 0, M - 1"
   ]
  },
  {
   "cell_type": "code",
   "execution_count": 7,
   "id": "52f284a0-9466-4ee5-9b67-96fd74222542",
   "metadata": {},
   "outputs": [
    {
     "name": "stdout",
     "output_type": "stream",
     "text": [
      "['Baden-Wuerttemberg', 'Bayern', 'Berlin', 'Brandenburg', 'Bremen', 'Hamburg', 'Hessen', 'Mecklenburg-Vorpommern', 'Niedersachsen', 'Nordrhein-Westfalen', 'Rheinland-Pfalz', 'Saarland', 'Sachsen', 'Sachsen-Anhalt', 'Schleswig-Holstein', 'Thueringen']\n",
      "['00-04', '05-14', '15-34', '35-59', '60-79', '80-99']\n",
      "['F', 'M']\n"
     ]
    }
   ],
   "source": [
    "df1 = df.groupby(['state', 'age_group', 'gender'])\n",
    "\n",
    "state = df['state'].unique().tolist()\n",
    "age_group = df['age_group'].unique().tolist()\n",
    "gender = df['gender'].unique().tolist()\n",
    "print(state)\n",
    "print(age_group)\n",
    "print(gender)\n",
    "# df1.get_group(('Baden-Wuerttemberg', '00-04', 'F')).sum()[2]"
   ]
  },
  {
   "cell_type": "code",
   "execution_count": 8,
   "id": "1dfd0c7d-57ce-4438-acd3-cd30d9b429fa",
   "metadata": {},
   "outputs": [],
   "source": [
    "def gender_num(a):\n",
    "    if a == 'F':\n",
    "        return 0\n",
    "    else:\n",
    "        return 1\n",
    "    \n",
    "def list_of_cases(d):\n",
    "    list_of_tuples = []\n",
    "    for i in state:\n",
    "        for j in age_group:\n",
    "            for k in gender:\n",
    "                sum_case = d.get_group((i,j,k)).sum()[3]\n",
    "                sum_case_tup = (i,int(j[0:2]),int(j[3:5]),gender_num(k),sum_case)\n",
    "                list_of_tuples.append(sum_case_tup)\n",
    "    return list_of_tuples\n",
    "\n",
    "case_data = list_of_cases(df1)"
   ]
  },
  {
   "cell_type": "code",
   "execution_count": 9,
   "id": "3d9f2e8d-057c-47ef-bd36-bbaeaf769304",
   "metadata": {},
   "outputs": [
    {
     "data": {
      "text/plain": [
       "[('Baden-Wuerttemberg', 0, 4, 0, 55786),\n",
       " ('Baden-Wuerttemberg', 0, 4, 1, 59028),\n",
       " ('Baden-Wuerttemberg', 5, 14, 0, 246251),\n",
       " ('Baden-Wuerttemberg', 5, 14, 1, 265044),\n",
       " ('Baden-Wuerttemberg', 15, 34, 0, 538761),\n",
       " ('Baden-Wuerttemberg', 15, 34, 1, 525634),\n",
       " ('Baden-Wuerttemberg', 35, 59, 0, 650000),\n",
       " ('Baden-Wuerttemberg', 35, 59, 1, 594476),\n",
       " ('Baden-Wuerttemberg', 60, 79, 0, 177451),\n",
       " ('Baden-Wuerttemberg', 60, 79, 1, 174623)]"
      ]
     },
     "execution_count": 9,
     "metadata": {},
     "output_type": "execute_result"
    }
   ],
   "source": [
    "case_data[0:10]"
   ]
  },
  {
   "cell_type": "code",
   "execution_count": 10,
   "id": "d132b90f-7250-4521-aff4-4a84c591915a",
   "metadata": {},
   "outputs": [
    {
     "data": {
      "text/html": [
       "<div>\n",
       "<style scoped>\n",
       "    .dataframe tbody tr th:only-of-type {\n",
       "        vertical-align: middle;\n",
       "    }\n",
       "\n",
       "    .dataframe tbody tr th {\n",
       "        vertical-align: top;\n",
       "    }\n",
       "\n",
       "    .dataframe thead th {\n",
       "        text-align: right;\n",
       "    }\n",
       "</style>\n",
       "<table border=\"1\" class=\"dataframe\">\n",
       "  <thead>\n",
       "    <tr style=\"text-align: right;\">\n",
       "      <th></th>\n",
       "      <th>state</th>\n",
       "      <th>lower_bound_age_group</th>\n",
       "      <th>upper_bound_age_group</th>\n",
       "      <th>gender</th>\n",
       "      <th>cases</th>\n",
       "    </tr>\n",
       "  </thead>\n",
       "  <tbody>\n",
       "    <tr>\n",
       "      <th>0</th>\n",
       "      <td>Baden-Wuerttemberg</td>\n",
       "      <td>0</td>\n",
       "      <td>4</td>\n",
       "      <td>0</td>\n",
       "      <td>55786</td>\n",
       "    </tr>\n",
       "    <tr>\n",
       "      <th>1</th>\n",
       "      <td>Baden-Wuerttemberg</td>\n",
       "      <td>0</td>\n",
       "      <td>4</td>\n",
       "      <td>1</td>\n",
       "      <td>59028</td>\n",
       "    </tr>\n",
       "    <tr>\n",
       "      <th>2</th>\n",
       "      <td>Baden-Wuerttemberg</td>\n",
       "      <td>5</td>\n",
       "      <td>14</td>\n",
       "      <td>0</td>\n",
       "      <td>246251</td>\n",
       "    </tr>\n",
       "    <tr>\n",
       "      <th>3</th>\n",
       "      <td>Baden-Wuerttemberg</td>\n",
       "      <td>5</td>\n",
       "      <td>14</td>\n",
       "      <td>1</td>\n",
       "      <td>265044</td>\n",
       "    </tr>\n",
       "    <tr>\n",
       "      <th>4</th>\n",
       "      <td>Baden-Wuerttemberg</td>\n",
       "      <td>15</td>\n",
       "      <td>34</td>\n",
       "      <td>0</td>\n",
       "      <td>538761</td>\n",
       "    </tr>\n",
       "    <tr>\n",
       "      <th>...</th>\n",
       "      <td>...</td>\n",
       "      <td>...</td>\n",
       "      <td>...</td>\n",
       "      <td>...</td>\n",
       "      <td>...</td>\n",
       "    </tr>\n",
       "    <tr>\n",
       "      <th>187</th>\n",
       "      <td>Thueringen</td>\n",
       "      <td>35</td>\n",
       "      <td>59</td>\n",
       "      <td>1</td>\n",
       "      <td>124345</td>\n",
       "    </tr>\n",
       "    <tr>\n",
       "      <th>188</th>\n",
       "      <td>Thueringen</td>\n",
       "      <td>60</td>\n",
       "      <td>79</td>\n",
       "      <td>0</td>\n",
       "      <td>48378</td>\n",
       "    </tr>\n",
       "    <tr>\n",
       "      <th>189</th>\n",
       "      <td>Thueringen</td>\n",
       "      <td>60</td>\n",
       "      <td>79</td>\n",
       "      <td>1</td>\n",
       "      <td>44208</td>\n",
       "    </tr>\n",
       "    <tr>\n",
       "      <th>190</th>\n",
       "      <td>Thueringen</td>\n",
       "      <td>80</td>\n",
       "      <td>99</td>\n",
       "      <td>0</td>\n",
       "      <td>21807</td>\n",
       "    </tr>\n",
       "    <tr>\n",
       "      <th>191</th>\n",
       "      <td>Thueringen</td>\n",
       "      <td>80</td>\n",
       "      <td>99</td>\n",
       "      <td>1</td>\n",
       "      <td>11876</td>\n",
       "    </tr>\n",
       "  </tbody>\n",
       "</table>\n",
       "<p>192 rows × 5 columns</p>\n",
       "</div>"
      ],
      "text/plain": [
       "                  state  lower_bound_age_group  upper_bound_age_group  gender  \\\n",
       "0    Baden-Wuerttemberg                      0                      4       0   \n",
       "1    Baden-Wuerttemberg                      0                      4       1   \n",
       "2    Baden-Wuerttemberg                      5                     14       0   \n",
       "3    Baden-Wuerttemberg                      5                     14       1   \n",
       "4    Baden-Wuerttemberg                     15                     34       0   \n",
       "..                  ...                    ...                    ...     ...   \n",
       "187          Thueringen                     35                     59       1   \n",
       "188          Thueringen                     60                     79       0   \n",
       "189          Thueringen                     60                     79       1   \n",
       "190          Thueringen                     80                     99       0   \n",
       "191          Thueringen                     80                     99       1   \n",
       "\n",
       "      cases  \n",
       "0     55786  \n",
       "1     59028  \n",
       "2    246251  \n",
       "3    265044  \n",
       "4    538761  \n",
       "..      ...  \n",
       "187  124345  \n",
       "188   48378  \n",
       "189   44208  \n",
       "190   21807  \n",
       "191   11876  \n",
       "\n",
       "[192 rows x 5 columns]"
      ]
     },
     "execution_count": 10,
     "metadata": {},
     "output_type": "execute_result"
    }
   ],
   "source": [
    "new_df = pd.DataFrame(case_data, columns = ['state', 'lower_bound_age_group', 'upper_bound_age_group', 'gender', 'cases'])\n",
    "new_df"
   ]
  },
  {
   "cell_type": "code",
   "execution_count": 11,
   "id": "8e53b85f-e05d-41ab-90d3-761a859cd22e",
   "metadata": {},
   "outputs": [
    {
     "data": {
      "text/html": [
       "<div>\n",
       "<style scoped>\n",
       "    .dataframe tbody tr th:only-of-type {\n",
       "        vertical-align: middle;\n",
       "    }\n",
       "\n",
       "    .dataframe tbody tr th {\n",
       "        vertical-align: top;\n",
       "    }\n",
       "\n",
       "    .dataframe thead th {\n",
       "        text-align: right;\n",
       "    }\n",
       "</style>\n",
       "<table border=\"1\" class=\"dataframe\">\n",
       "  <thead>\n",
       "    <tr style=\"text-align: right;\">\n",
       "      <th></th>\n",
       "      <th>lower_bound_age_group</th>\n",
       "      <th>upper_bound_age_group</th>\n",
       "      <th>gender</th>\n",
       "      <th>cases</th>\n",
       "    </tr>\n",
       "    <tr>\n",
       "      <th>state</th>\n",
       "      <th></th>\n",
       "      <th></th>\n",
       "      <th></th>\n",
       "      <th></th>\n",
       "    </tr>\n",
       "  </thead>\n",
       "  <tbody>\n",
       "    <tr>\n",
       "      <th>Baden-Wuerttemberg</th>\n",
       "      <td>0</td>\n",
       "      <td>4</td>\n",
       "      <td>0</td>\n",
       "      <td>55786</td>\n",
       "    </tr>\n",
       "    <tr>\n",
       "      <th>Baden-Wuerttemberg</th>\n",
       "      <td>0</td>\n",
       "      <td>4</td>\n",
       "      <td>1</td>\n",
       "      <td>59028</td>\n",
       "    </tr>\n",
       "    <tr>\n",
       "      <th>Baden-Wuerttemberg</th>\n",
       "      <td>5</td>\n",
       "      <td>14</td>\n",
       "      <td>0</td>\n",
       "      <td>246251</td>\n",
       "    </tr>\n",
       "    <tr>\n",
       "      <th>Baden-Wuerttemberg</th>\n",
       "      <td>5</td>\n",
       "      <td>14</td>\n",
       "      <td>1</td>\n",
       "      <td>265044</td>\n",
       "    </tr>\n",
       "    <tr>\n",
       "      <th>Baden-Wuerttemberg</th>\n",
       "      <td>15</td>\n",
       "      <td>34</td>\n",
       "      <td>0</td>\n",
       "      <td>538761</td>\n",
       "    </tr>\n",
       "    <tr>\n",
       "      <th>...</th>\n",
       "      <td>...</td>\n",
       "      <td>...</td>\n",
       "      <td>...</td>\n",
       "      <td>...</td>\n",
       "    </tr>\n",
       "    <tr>\n",
       "      <th>Thueringen</th>\n",
       "      <td>35</td>\n",
       "      <td>59</td>\n",
       "      <td>1</td>\n",
       "      <td>124345</td>\n",
       "    </tr>\n",
       "    <tr>\n",
       "      <th>Thueringen</th>\n",
       "      <td>60</td>\n",
       "      <td>79</td>\n",
       "      <td>0</td>\n",
       "      <td>48378</td>\n",
       "    </tr>\n",
       "    <tr>\n",
       "      <th>Thueringen</th>\n",
       "      <td>60</td>\n",
       "      <td>79</td>\n",
       "      <td>1</td>\n",
       "      <td>44208</td>\n",
       "    </tr>\n",
       "    <tr>\n",
       "      <th>Thueringen</th>\n",
       "      <td>80</td>\n",
       "      <td>99</td>\n",
       "      <td>0</td>\n",
       "      <td>21807</td>\n",
       "    </tr>\n",
       "    <tr>\n",
       "      <th>Thueringen</th>\n",
       "      <td>80</td>\n",
       "      <td>99</td>\n",
       "      <td>1</td>\n",
       "      <td>11876</td>\n",
       "    </tr>\n",
       "  </tbody>\n",
       "</table>\n",
       "<p>192 rows × 4 columns</p>\n",
       "</div>"
      ],
      "text/plain": [
       "                    lower_bound_age_group  upper_bound_age_group  gender  \\\n",
       "state                                                                      \n",
       "Baden-Wuerttemberg                      0                      4       0   \n",
       "Baden-Wuerttemberg                      0                      4       1   \n",
       "Baden-Wuerttemberg                      5                     14       0   \n",
       "Baden-Wuerttemberg                      5                     14       1   \n",
       "Baden-Wuerttemberg                     15                     34       0   \n",
       "...                                   ...                    ...     ...   \n",
       "Thueringen                             35                     59       1   \n",
       "Thueringen                             60                     79       0   \n",
       "Thueringen                             60                     79       1   \n",
       "Thueringen                             80                     99       0   \n",
       "Thueringen                             80                     99       1   \n",
       "\n",
       "                     cases  \n",
       "state                       \n",
       "Baden-Wuerttemberg   55786  \n",
       "Baden-Wuerttemberg   59028  \n",
       "Baden-Wuerttemberg  246251  \n",
       "Baden-Wuerttemberg  265044  \n",
       "Baden-Wuerttemberg  538761  \n",
       "...                    ...  \n",
       "Thueringen          124345  \n",
       "Thueringen           48378  \n",
       "Thueringen           44208  \n",
       "Thueringen           21807  \n",
       "Thueringen           11876  \n",
       "\n",
       "[192 rows x 4 columns]"
      ]
     },
     "execution_count": 11,
     "metadata": {},
     "output_type": "execute_result"
    }
   ],
   "source": [
    "new_df = new_df.set_index(['state'])\n",
    "new_df"
   ]
  },
  {
   "cell_type": "markdown",
   "id": "c6ef35da-7bf8-4753-94dd-e7721f1312ad",
   "metadata": {},
   "source": [
    "The state in Germany itself isn't important to me as I want to understand the differences between my neighborhood and the one across the street. What is important is the population within the German states, which could be a reflection of the neighborhoods around me."
   ]
  },
  {
   "cell_type": "markdown",
   "id": "0beb32bd-de47-4e51-8dd3-06d9df427809",
   "metadata": {},
   "source": [
    "Note: Due to differences in language in the dataset (in German), these are the equivalent locations in comparison to the states in the reference. Check references at the bottom to see where these numbers are from. Data is from the year 2020, the same time frame as the data set.\n",
    "\n",
    "Bavaria is the same as Bayern\n",
    "\n",
    "Hesse is the same as Hessen\n",
    "\n",
    "Rhineland-Palatinate is the same as Rheinland-Pfalz\n",
    "\n",
    "Mecklenburg-Western Pomerania is the same as Mecklenburg-Vorpommern\n",
    "\n",
    "Thuringia is the same as Thueringen\n",
    "\n",
    "Saxony is the same as Sachsen\n",
    "\n",
    "Saxony-Anhalt is the same as Sachsen-Anhalt\n",
    "\n",
    "Lower Saxony is the same as Niedersachsen\n",
    "\n",
    "North Rhine-Westphalia is the same as Nordrhein-Westfalen"
   ]
  },
  {
   "cell_type": "code",
   "execution_count": 12,
   "id": "9eb72a07-5391-407b-b803-6940ce156314",
   "metadata": {},
   "outputs": [
    {
     "data": {
      "text/html": [
       "<div>\n",
       "<style scoped>\n",
       "    .dataframe tbody tr th:only-of-type {\n",
       "        vertical-align: middle;\n",
       "    }\n",
       "\n",
       "    .dataframe tbody tr th {\n",
       "        vertical-align: top;\n",
       "    }\n",
       "\n",
       "    .dataframe thead th {\n",
       "        text-align: right;\n",
       "    }\n",
       "</style>\n",
       "<table border=\"1\" class=\"dataframe\">\n",
       "  <thead>\n",
       "    <tr style=\"text-align: right;\">\n",
       "      <th></th>\n",
       "      <th>population</th>\n",
       "    </tr>\n",
       "    <tr>\n",
       "      <th>state</th>\n",
       "      <th></th>\n",
       "    </tr>\n",
       "  </thead>\n",
       "  <tbody>\n",
       "    <tr>\n",
       "      <th>Nordrhein-Westfalen</th>\n",
       "      <td>17925570</td>\n",
       "    </tr>\n",
       "    <tr>\n",
       "      <th>Bayern</th>\n",
       "      <td>13140183</td>\n",
       "    </tr>\n",
       "    <tr>\n",
       "      <th>Baden-Wuerttemberg</th>\n",
       "      <td>11103043</td>\n",
       "    </tr>\n",
       "    <tr>\n",
       "      <th>Niedersachsen</th>\n",
       "      <td>8003421</td>\n",
       "    </tr>\n",
       "    <tr>\n",
       "      <th>Hessen</th>\n",
       "      <td>6293154</td>\n",
       "    </tr>\n",
       "    <tr>\n",
       "      <th>Rheinland-Pfalz</th>\n",
       "      <td>4098391</td>\n",
       "    </tr>\n",
       "    <tr>\n",
       "      <th>Sachsen</th>\n",
       "      <td>4056941</td>\n",
       "    </tr>\n",
       "    <tr>\n",
       "      <th>Berlin</th>\n",
       "      <td>3664088</td>\n",
       "    </tr>\n",
       "    <tr>\n",
       "      <th>Schleswig-Holstein</th>\n",
       "      <td>2910875</td>\n",
       "    </tr>\n",
       "    <tr>\n",
       "      <th>Brandenburg</th>\n",
       "      <td>2531071</td>\n",
       "    </tr>\n",
       "    <tr>\n",
       "      <th>Sachsen-Anhalt</th>\n",
       "      <td>2180684</td>\n",
       "    </tr>\n",
       "    <tr>\n",
       "      <th>Thueringen</th>\n",
       "      <td>2120237</td>\n",
       "    </tr>\n",
       "    <tr>\n",
       "      <th>Hamburg</th>\n",
       "      <td>1852478</td>\n",
       "    </tr>\n",
       "    <tr>\n",
       "      <th>Mecklenburg-Vorpommern</th>\n",
       "      <td>1610774</td>\n",
       "    </tr>\n",
       "    <tr>\n",
       "      <th>Saarland</th>\n",
       "      <td>983991</td>\n",
       "    </tr>\n",
       "    <tr>\n",
       "      <th>Bremen</th>\n",
       "      <td>680130</td>\n",
       "    </tr>\n",
       "  </tbody>\n",
       "</table>\n",
       "</div>"
      ],
      "text/plain": [
       "                        population\n",
       "state                             \n",
       "Nordrhein-Westfalen       17925570\n",
       "Bayern                    13140183\n",
       "Baden-Wuerttemberg        11103043\n",
       "Niedersachsen              8003421\n",
       "Hessen                     6293154\n",
       "Rheinland-Pfalz            4098391\n",
       "Sachsen                    4056941\n",
       "Berlin                     3664088\n",
       "Schleswig-Holstein         2910875\n",
       "Brandenburg                2531071\n",
       "Sachsen-Anhalt             2180684\n",
       "Thueringen                 2120237\n",
       "Hamburg                    1852478\n",
       "Mecklenburg-Vorpommern     1610774\n",
       "Saarland                    983991\n",
       "Bremen                      680130"
      ]
     },
     "execution_count": 12,
     "metadata": {},
     "output_type": "execute_result"
    }
   ],
   "source": [
    "data1 = {'state': ['Nordrhein-Westfalen', 'Bayern', 'Baden-Wuerttemberg', 'Niedersachsen', 'Hessen', 'Rheinland-Pfalz', 'Sachsen', 'Berlin', 'Schleswig-Holstein', 'Brandenburg', 'Sachsen-Anhalt', 'Thueringen', 'Hamburg', 'Mecklenburg-Vorpommern', 'Saarland', 'Bremen'], 'population': [17925570, 13140183, 11103043, 8003421, 6293154, 4098391, 4056941, 3664088, 2910875, 2531071, 2180684, 2120237, 1852478, 1610774, 983991, 680130]}\n",
    "df1 = pd.DataFrame.from_dict(data1)\n",
    "df1 = df1.set_index(['state'])\n",
    "df1"
   ]
  },
  {
   "cell_type": "code",
   "execution_count": 13,
   "id": "b3286023-e6be-4f40-869c-0828f39a7ec1",
   "metadata": {},
   "outputs": [
    {
     "data": {
      "text/html": [
       "<div>\n",
       "<style scoped>\n",
       "    .dataframe tbody tr th:only-of-type {\n",
       "        vertical-align: middle;\n",
       "    }\n",
       "\n",
       "    .dataframe tbody tr th {\n",
       "        vertical-align: top;\n",
       "    }\n",
       "\n",
       "    .dataframe thead th {\n",
       "        text-align: right;\n",
       "    }\n",
       "</style>\n",
       "<table border=\"1\" class=\"dataframe\">\n",
       "  <thead>\n",
       "    <tr style=\"text-align: right;\">\n",
       "      <th></th>\n",
       "      <th>lower_bound_age_group</th>\n",
       "      <th>upper_bound_age_group</th>\n",
       "      <th>gender</th>\n",
       "      <th>cases</th>\n",
       "      <th>population</th>\n",
       "    </tr>\n",
       "    <tr>\n",
       "      <th>state</th>\n",
       "      <th></th>\n",
       "      <th></th>\n",
       "      <th></th>\n",
       "      <th></th>\n",
       "      <th></th>\n",
       "    </tr>\n",
       "  </thead>\n",
       "  <tbody>\n",
       "    <tr>\n",
       "      <th>Baden-Wuerttemberg</th>\n",
       "      <td>0</td>\n",
       "      <td>4</td>\n",
       "      <td>0</td>\n",
       "      <td>55786</td>\n",
       "      <td>11103043</td>\n",
       "    </tr>\n",
       "    <tr>\n",
       "      <th>Baden-Wuerttemberg</th>\n",
       "      <td>0</td>\n",
       "      <td>4</td>\n",
       "      <td>1</td>\n",
       "      <td>59028</td>\n",
       "      <td>11103043</td>\n",
       "    </tr>\n",
       "    <tr>\n",
       "      <th>Baden-Wuerttemberg</th>\n",
       "      <td>5</td>\n",
       "      <td>14</td>\n",
       "      <td>0</td>\n",
       "      <td>246251</td>\n",
       "      <td>11103043</td>\n",
       "    </tr>\n",
       "    <tr>\n",
       "      <th>Baden-Wuerttemberg</th>\n",
       "      <td>5</td>\n",
       "      <td>14</td>\n",
       "      <td>1</td>\n",
       "      <td>265044</td>\n",
       "      <td>11103043</td>\n",
       "    </tr>\n",
       "    <tr>\n",
       "      <th>Baden-Wuerttemberg</th>\n",
       "      <td>15</td>\n",
       "      <td>34</td>\n",
       "      <td>0</td>\n",
       "      <td>538761</td>\n",
       "      <td>11103043</td>\n",
       "    </tr>\n",
       "    <tr>\n",
       "      <th>...</th>\n",
       "      <td>...</td>\n",
       "      <td>...</td>\n",
       "      <td>...</td>\n",
       "      <td>...</td>\n",
       "      <td>...</td>\n",
       "    </tr>\n",
       "    <tr>\n",
       "      <th>Thueringen</th>\n",
       "      <td>35</td>\n",
       "      <td>59</td>\n",
       "      <td>1</td>\n",
       "      <td>124345</td>\n",
       "      <td>2120237</td>\n",
       "    </tr>\n",
       "    <tr>\n",
       "      <th>Thueringen</th>\n",
       "      <td>60</td>\n",
       "      <td>79</td>\n",
       "      <td>0</td>\n",
       "      <td>48378</td>\n",
       "      <td>2120237</td>\n",
       "    </tr>\n",
       "    <tr>\n",
       "      <th>Thueringen</th>\n",
       "      <td>60</td>\n",
       "      <td>79</td>\n",
       "      <td>1</td>\n",
       "      <td>44208</td>\n",
       "      <td>2120237</td>\n",
       "    </tr>\n",
       "    <tr>\n",
       "      <th>Thueringen</th>\n",
       "      <td>80</td>\n",
       "      <td>99</td>\n",
       "      <td>0</td>\n",
       "      <td>21807</td>\n",
       "      <td>2120237</td>\n",
       "    </tr>\n",
       "    <tr>\n",
       "      <th>Thueringen</th>\n",
       "      <td>80</td>\n",
       "      <td>99</td>\n",
       "      <td>1</td>\n",
       "      <td>11876</td>\n",
       "      <td>2120237</td>\n",
       "    </tr>\n",
       "  </tbody>\n",
       "</table>\n",
       "<p>192 rows × 5 columns</p>\n",
       "</div>"
      ],
      "text/plain": [
       "                    lower_bound_age_group  upper_bound_age_group  gender  \\\n",
       "state                                                                      \n",
       "Baden-Wuerttemberg                      0                      4       0   \n",
       "Baden-Wuerttemberg                      0                      4       1   \n",
       "Baden-Wuerttemberg                      5                     14       0   \n",
       "Baden-Wuerttemberg                      5                     14       1   \n",
       "Baden-Wuerttemberg                     15                     34       0   \n",
       "...                                   ...                    ...     ...   \n",
       "Thueringen                             35                     59       1   \n",
       "Thueringen                             60                     79       0   \n",
       "Thueringen                             60                     79       1   \n",
       "Thueringen                             80                     99       0   \n",
       "Thueringen                             80                     99       1   \n",
       "\n",
       "                     cases  population  \n",
       "state                                   \n",
       "Baden-Wuerttemberg   55786    11103043  \n",
       "Baden-Wuerttemberg   59028    11103043  \n",
       "Baden-Wuerttemberg  246251    11103043  \n",
       "Baden-Wuerttemberg  265044    11103043  \n",
       "Baden-Wuerttemberg  538761    11103043  \n",
       "...                    ...         ...  \n",
       "Thueringen          124345     2120237  \n",
       "Thueringen           48378     2120237  \n",
       "Thueringen           44208     2120237  \n",
       "Thueringen           21807     2120237  \n",
       "Thueringen           11876     2120237  \n",
       "\n",
       "[192 rows x 5 columns]"
      ]
     },
     "execution_count": 13,
     "metadata": {},
     "output_type": "execute_result"
    }
   ],
   "source": [
    "df = pd.merge(new_df, df1, on='state')\n",
    "df"
   ]
  },
  {
   "cell_type": "markdown",
   "id": "4213b745-784e-42f6-99ba-3a321018ecd5",
   "metadata": {},
   "source": [
    "Note: Will not do a regression for both lower and upper bound together due to multicollinearity. The purpose of separating the age groups into two parts is to do two multivariate regressions with different age inputs to see the differences."
   ]
  },
  {
   "cell_type": "code",
   "execution_count": 14,
   "id": "02efad1c-1a95-4f66-9461-ceb78364c42c",
   "metadata": {},
   "outputs": [],
   "source": [
    "def gender_name(x):\n",
    "    y = []\n",
    "    for i in x['gender']:\n",
    "        if i == 0:\n",
    "            z = 'female'\n",
    "            y.append(z)\n",
    "        else:\n",
    "            z = 'male'\n",
    "            y.append(z)\n",
    "    return y\n",
    "states = list(df.index.values)\n",
    "lower_bound = df['lower_bound_age_group']\n",
    "upper_bound = df['upper_bound_age_group']\n",
    "gender = gender_name(df)\n",
    "cases = df['cases']\n",
    "population = df['population']"
   ]
  },
  {
   "cell_type": "markdown",
   "id": "52553161-6919-42e2-99d2-e09e059ef1cc",
   "metadata": {},
   "source": [
    "One interest Visualization that wasn't expected was that cases are higher for women in Germany than men"
   ]
  },
  {
   "cell_type": "markdown",
   "id": "118a935f-243a-46ae-a2e2-cd9772aaaf03",
   "metadata": {},
   "source": [
    "\n"
   ]
  },
  {
   "cell_type": "code",
   "execution_count": 15,
   "id": "f3e8db09-0fcc-42c6-b9dd-8a06d07ea15d",
   "metadata": {},
   "outputs": [
    {
     "data": {
      "image/png": "[encoded data removed]",
      "text/plain": [
       "<Figure size 432x288 with 1 Axes>"
      ]
     },
     "metadata": {
      "needs_background": "light"
     },
     "output_type": "display_data"
    }
   ],
   "source": [
    "plt.bar(gender, cases, color = ['red', 'blue'])\n",
    "plt.title('Cases by Gender in Germany')\n",
    "plt.xlabel('Gender')\n",
    "plt.ylabel('Number of Cases')\n",
    "plt.show()\n",
    "labels= ['Mortgage', 'Utilities', 'Food', 'Gas']\n"
   ]
  },
  {
   "cell_type": "markdown",
   "id": "718234d0-dc4a-4e58-af68-bd7e7663f63f",
   "metadata": {
    "tags": []
   },
   "source": [
    "## Fun take on linear regression and multiple regression: Linear Algebra"
   ]
  },
  {
   "cell_type": "markdown",
   "id": "32195024-f594-4444-a1ec-d2934b5c1ec4",
   "metadata": {},
   "source": [
    "### Linear Regression"
   ]
  },
  {
   "cell_type": "markdown",
   "id": "9dd2b468-7dc2-4ad3-a1eb-af2bfc78d24b",
   "metadata": {},
   "source": [
    "For a single variable, we use linear regression where $y = c_0x^0 + c_1x^1 = c_0 + c_1x$"
   ]
  },
  {
   "cell_type": "markdown",
   "id": "999fcd22-ba22-404d-b1c8-65e947f1d1ef",
   "metadata": {},
   "source": [
    "First we start population. We can find the linear regression for population in two ways:\n",
    "1. Taking the sum of cases in each state and creating a linear regression where population explains the sum of cases\n",
    "2. Don't take the sum and do a linear regression where population explains set of cases"
   ]
  },
  {
   "cell_type": "markdown",
   "id": "0ffae817-dd4e-4182-ac33-dd7f2b13ac1c",
   "metadata": {},
   "source": [
    "#### Method 1"
   ]
  },
  {
   "cell_type": "code",
   "execution_count": 16,
   "id": "e480d30d-1978-4c0b-83ad-a9cb3052e329",
   "metadata": {},
   "outputs": [
    {
     "name": "stdout",
     "output_type": "stream",
     "text": [
      "state\n",
      "Baden-Wuerttemberg        3390626\n",
      "Bayern                    4488196\n",
      "Berlin                     942066\n",
      "Brandenburg                737370\n",
      "Bremen                     177487\n",
      "Hamburg                    518620\n",
      "Hessen                    1640376\n",
      "Mecklenburg-Vorpommern     456639\n",
      "Niedersachsen             2032076\n",
      "Nordrhein-Westfalen       4754296\n",
      "Rheinland-Pfalz           1026135\n",
      "Saarland                   290607\n",
      "Sachsen                   1441328\n",
      "Sachsen-Anhalt             672909\n",
      "Schleswig-Holstein         617957\n",
      "Thueringen                 677121\n",
      "Name: cases, dtype: int64\n"
     ]
    }
   ],
   "source": [
    "cases_by_state = df.groupby('state')['cases'].sum()\n",
    "print(cases_by_state)\n",
    "cases_by_state = list(cases_by_state)"
   ]
  },
  {
   "cell_type": "code",
   "execution_count": 17,
   "id": "8fc07845-8593-450c-b172-7a1995d5e8c5",
   "metadata": {},
   "outputs": [
    {
     "data": {
      "text/plain": [
       "state\n",
       "Baden-Wuerttemberg        11103043\n",
       "Bayern                    13140183\n",
       "Berlin                     3664088\n",
       "Brandenburg                2531071\n",
       "Bremen                      680130\n",
       "Hamburg                    1852478\n",
       "Hessen                     6293154\n",
       "Mecklenburg-Vorpommern     1610774\n",
       "Niedersachsen              8003421\n",
       "Nordrhein-Westfalen       17925570\n",
       "Rheinland-Pfalz            4098391\n",
       "Saarland                    983991\n",
       "Sachsen                    4056941\n",
       "Sachsen-Anhalt             2180684\n",
       "Schleswig-Holstein         2910875\n",
       "Thueringen                 2120237\n",
       "Name: population, dtype: int64"
      ]
     },
     "execution_count": 17,
     "metadata": {},
     "output_type": "execute_result"
    }
   ],
   "source": [
    "df1 = df1.sort_index(axis=0)\n",
    "df1['population']"
   ]
  },
  {
   "cell_type": "code",
   "execution_count": 18,
   "id": "3afec508-75d3-4a27-b8a4-d03091fdb350",
   "metadata": {},
   "outputs": [
    {
     "data": {
      "text/html": [
       "<div>\n",
       "<style scoped>\n",
       "    .dataframe tbody tr th:only-of-type {\n",
       "        vertical-align: middle;\n",
       "    }\n",
       "\n",
       "    .dataframe tbody tr th {\n",
       "        vertical-align: top;\n",
       "    }\n",
       "\n",
       "    .dataframe thead th {\n",
       "        text-align: right;\n",
       "    }\n",
       "</style>\n",
       "<table border=\"1\" class=\"dataframe\">\n",
       "  <thead>\n",
       "    <tr style=\"text-align: right;\">\n",
       "      <th></th>\n",
       "      <th>cases</th>\n",
       "      <th>population</th>\n",
       "    </tr>\n",
       "  </thead>\n",
       "  <tbody>\n",
       "    <tr>\n",
       "      <th>0</th>\n",
       "      <td>3390626</td>\n",
       "      <td>11103043</td>\n",
       "    </tr>\n",
       "    <tr>\n",
       "      <th>1</th>\n",
       "      <td>4488196</td>\n",
       "      <td>13140183</td>\n",
       "    </tr>\n",
       "    <tr>\n",
       "      <th>2</th>\n",
       "      <td>942066</td>\n",
       "      <td>3664088</td>\n",
       "    </tr>\n",
       "    <tr>\n",
       "      <th>3</th>\n",
       "      <td>737370</td>\n",
       "      <td>2531071</td>\n",
       "    </tr>\n",
       "    <tr>\n",
       "      <th>4</th>\n",
       "      <td>177487</td>\n",
       "      <td>680130</td>\n",
       "    </tr>\n",
       "    <tr>\n",
       "      <th>5</th>\n",
       "      <td>518620</td>\n",
       "      <td>1852478</td>\n",
       "    </tr>\n",
       "    <tr>\n",
       "      <th>6</th>\n",
       "      <td>1640376</td>\n",
       "      <td>6293154</td>\n",
       "    </tr>\n",
       "    <tr>\n",
       "      <th>7</th>\n",
       "      <td>456639</td>\n",
       "      <td>1610774</td>\n",
       "    </tr>\n",
       "    <tr>\n",
       "      <th>8</th>\n",
       "      <td>2032076</td>\n",
       "      <td>8003421</td>\n",
       "    </tr>\n",
       "    <tr>\n",
       "      <th>9</th>\n",
       "      <td>4754296</td>\n",
       "      <td>17925570</td>\n",
       "    </tr>\n",
       "    <tr>\n",
       "      <th>10</th>\n",
       "      <td>1026135</td>\n",
       "      <td>4098391</td>\n",
       "    </tr>\n",
       "    <tr>\n",
       "      <th>11</th>\n",
       "      <td>290607</td>\n",
       "      <td>983991</td>\n",
       "    </tr>\n",
       "    <tr>\n",
       "      <th>12</th>\n",
       "      <td>1441328</td>\n",
       "      <td>4056941</td>\n",
       "    </tr>\n",
       "    <tr>\n",
       "      <th>13</th>\n",
       "      <td>672909</td>\n",
       "      <td>2180684</td>\n",
       "    </tr>\n",
       "    <tr>\n",
       "      <th>14</th>\n",
       "      <td>617957</td>\n",
       "      <td>2910875</td>\n",
       "    </tr>\n",
       "    <tr>\n",
       "      <th>15</th>\n",
       "      <td>677121</td>\n",
       "      <td>2120237</td>\n",
       "    </tr>\n",
       "  </tbody>\n",
       "</table>\n",
       "</div>"
      ],
      "text/plain": [
       "      cases  population\n",
       "0   3390626    11103043\n",
       "1   4488196    13140183\n",
       "2    942066     3664088\n",
       "3    737370     2531071\n",
       "4    177487      680130\n",
       "5    518620     1852478\n",
       "6   1640376     6293154\n",
       "7    456639     1610774\n",
       "8   2032076     8003421\n",
       "9   4754296    17925570\n",
       "10  1026135     4098391\n",
       "11   290607      983991\n",
       "12  1441328     4056941\n",
       "13   672909     2180684\n",
       "14   617957     2910875\n",
       "15   677121     2120237"
      ]
     },
     "execution_count": 18,
     "metadata": {},
     "output_type": "execute_result"
    }
   ],
   "source": [
    "pop_data = {'cases': cases_by_state, 'population': df1['population']}\n",
    "df_pop = pd.DataFrame.from_dict(pop_data).reset_index(drop=True)\n",
    "df_pop"
   ]
  },
  {
   "cell_type": "code",
   "execution_count": 19,
   "id": "5588e6f0-c9d7-425b-96bb-c2c790ecee37",
   "metadata": {},
   "outputs": [
    {
     "data": {
      "image/png": "[encoded data removed]",
      "text/plain": [
       "<Figure size 432x288 with 1 Axes>"
      ]
     },
     "metadata": {
      "needs_background": "light"
     },
     "output_type": "display_data"
    },
    {
     "name": "stdout",
     "output_type": "stream",
     "text": [
      "y =  -17773.950278135457 + 0.2903996536836138 t\n"
     ]
    }
   ],
   "source": [
    "y = np.array(cases_by_state)\n",
    "x_pop = np.vander(np.array(df1['population']), N=2, increasing = True)\n",
    "\n",
    "c0,c1 = la.solve(x_pop.T @ x_pop, x_pop.T @ y)\n",
    "\n",
    "t2 = np.linspace(0,df1['population'].max(),192)\n",
    "\n",
    "y2 = c0 + c1*t2\n",
    "\n",
    "plt.plot(t2,y2,'blue')\n",
    "plt.show()\n",
    "\n",
    "print('y = ',c0, '+', c1, 't')"
   ]
  },
  {
   "cell_type": "markdown",
   "id": "f5c74819-5f7f-42d4-a969-72d39fb9aeda",
   "metadata": {},
   "source": [
    "As we can see from the results,\n",
    "- Cases are higher if there are more females\n",
    "- Cases are lower with increase in age\n",
    "- Cases are higher with increase in population\n",
    "\n",
    "Now let's try to put these variables in another format of linear regression to see how they fit\n",
    "\n",
    "Note: Because population was taken in another format"
   ]
  },
  {
   "cell_type": "code",
   "execution_count": 20,
   "id": "9782c8db-2059-4b55-8246-8e763ad96733",
   "metadata": {},
   "outputs": [
    {
     "data": {
      "text/plain": [
       "<AxesSubplot:xlabel='population', ylabel='cases'>"
      ]
     },
     "execution_count": 20,
     "metadata": {},
     "output_type": "execute_result"
    },
    {
     "data": {
      "image/png": "[encoded data removed]",
      "text/plain": [
       "<Figure size 576x432 with 1 Axes>"
      ]
     },
     "metadata": {
      "needs_background": "light"
     },
     "output_type": "display_data"
    }
   ],
   "source": [
    "\n",
    "def var_scatter_pop(df_pop, ax=None, var='population'):\n",
    "    if ax is None:\n",
    "        _, ax = plt.subplots(figsize=(8, 6))\n",
    "    df_pop.plot.scatter(x=var , y='cases', alpha=0.35, s=10, ax=ax, c='black')\n",
    "    plt.plot(t2,y2,'blue')\n",
    "\n",
    "    return ax\n",
    "var_scatter_pop(df_pop)\n"
   ]
  },
  {
   "cell_type": "markdown",
   "id": "3a90d58a-9a3c-4eef-9d48-58ead65443a4",
   "metadata": {},
   "source": [
    "#### Method 2:"
   ]
  },
  {
   "cell_type": "code",
   "execution_count": 21,
   "id": "64348fc6-60b9-469c-bd21-c33f3c2dccac",
   "metadata": {},
   "outputs": [
    {
     "data": {
      "image/png": "[encoded data removed]",
      "text/plain": [
       "<Figure size 432x288 with 1 Axes>"
      ]
     },
     "metadata": {
      "needs_background": "light"
     },
     "output_type": "display_data"
    },
    {
     "name": "stdout",
     "output_type": "stream",
     "text": [
      "y =  -1481.1625231779547 + 0.02419997114030115 t\n"
     ]
    }
   ],
   "source": [
    "y = np.array(df['cases'])\n",
    "x_pop1 = np.vander(np.array(df['population']), N=2, increasing = True)\n",
    "\n",
    "c0,c1 = la.solve(x_pop1.T @ x_pop1, x_pop1.T @ y)\n",
    "\n",
    "t10 = np.linspace(0,df['population'].max(),192)\n",
    "\n",
    "y10 = c0 + c1*t10\n",
    "\n",
    "plt.plot(t10,y10,'blue')\n",
    "plt.show()\n",
    "\n",
    "print('y = ',c0, '+', c1, 't')"
   ]
  },
  {
   "cell_type": "code",
   "execution_count": 22,
   "id": "ee5b7c0b-8991-4369-90b4-baa0694db2af",
   "metadata": {},
   "outputs": [
    {
     "data": {
      "text/plain": [
       "<AxesSubplot:xlabel='population', ylabel='cases'>"
      ]
     },
     "execution_count": 22,
     "metadata": {},
     "output_type": "execute_result"
    },
    {
     "data": {
      "image/png": "[encoded data removed]",
      "text/plain": [
       "<Figure size 576x432 with 1 Axes>"
      ]
     },
     "metadata": {
      "needs_background": "light"
     },
     "output_type": "display_data"
    }
   ],
   "source": [
    "def var_scatter_pop1(df, ax=None, var='population'):\n",
    "    if ax is None:\n",
    "        _, ax = plt.subplots(figsize=(8, 6))\n",
    "    df.plot.scatter(x=var , y='cases', alpha=0.35, s=1.5, ax=ax, c='black')\n",
    "    plt.plot(t10,y10,'blue')\n",
    "\n",
    "    return ax\n",
    "var_scatter_pop1(df)"
   ]
  },
  {
   "cell_type": "markdown",
   "id": "38ec3a94-e105-4c1e-8fb3-fa60a8fe5d04",
   "metadata": {},
   "source": [
    "We can see signs of heteroskedasticity by the patterns of the errors in the scatterplot above. Thus, we try to take the log of y to attempt a better fit."
   ]
  },
  {
   "cell_type": "code",
   "execution_count": 23,
   "id": "333d1ce8-fed6-4590-8480-6e13f5150fad",
   "metadata": {},
   "outputs": [
    {
     "data": {
      "text/plain": [
       "state\n",
       "Baden-Wuerttemberg    10.929278\n",
       "Baden-Wuerttemberg    10.985767\n",
       "Baden-Wuerttemberg    12.414107\n",
       "Baden-Wuerttemberg    12.487651\n",
       "Baden-Wuerttemberg    13.197027\n",
       "Name: cases, dtype: float64"
      ]
     },
     "execution_count": 23,
     "metadata": {},
     "output_type": "execute_result"
    }
   ],
   "source": [
    "y = np.log(df[\"cases\"])\n",
    "df[\"log_cases\"] = y\n",
    "y.head()"
   ]
  },
  {
   "cell_type": "code",
   "execution_count": 24,
   "id": "96805376-952b-445c-ac2a-c5fae663e3ff",
   "metadata": {},
   "outputs": [
    {
     "data": {
      "image/png": "[encoded data removed]",
      "text/plain": [
       "<Figure size 432x288 with 1 Axes>"
      ]
     },
     "metadata": {
      "needs_background": "light"
     },
     "output_type": "display_data"
    },
    {
     "name": "stdout",
     "output_type": "stream",
     "text": [
      "y =  10.047672170428715 + 1.710445288521163e-07 t\n"
     ]
    }
   ],
   "source": [
    "y = np.array(df['log_cases'])\n",
    "x_pop1 = np.vander(np.array(df['population']), N=2, increasing = True)\n",
    "\n",
    "c0,c1 = la.solve(x_pop1.T @ x_pop1, x_pop1.T @ y)\n",
    "\n",
    "t11 = np.linspace(0,df['population'].max(),192)\n",
    "\n",
    "y11 = c0 + c1*t11\n",
    "\n",
    "plt.plot(t11,y11,'blue')\n",
    "plt.show()\n",
    "\n",
    "print('y = ',c0, '+', c1, 't')"
   ]
  },
  {
   "cell_type": "code",
   "execution_count": 25,
   "id": "cc3037ce-528f-4d3d-adb1-777e0e8d5683",
   "metadata": {},
   "outputs": [
    {
     "data": {
      "text/plain": [
       "<AxesSubplot:xlabel='population', ylabel='log_cases'>"
      ]
     },
     "execution_count": 25,
     "metadata": {},
     "output_type": "execute_result"
    },
    {
     "data": {
      "image/png": "[encoded data removed]",
      "text/plain": [
       "<Figure size 576x432 with 1 Axes>"
      ]
     },
     "metadata": {
      "needs_background": "light"
     },
     "output_type": "display_data"
    }
   ],
   "source": [
    "def var_scatter_pop2(df, ax=None, var='population'):\n",
    "    if ax is None:\n",
    "        _, ax = plt.subplots(figsize=(8, 6))\n",
    "    df.plot.scatter(x=var , y='log_cases', alpha=0.35, s=1.5, ax=ax, c='black')\n",
    "    plt.plot(t11,y11,'blue')\n",
    "\n",
    "    return ax\n",
    "var_scatter_pop2(df)"
   ]
  },
  {
   "cell_type": "markdown",
   "id": "931ac869-5aae-459f-9182-02104c748333",
   "metadata": {},
   "source": [
    "A much better fit! Let's keep things consistent and also take the log of y for the other two variables"
   ]
  },
  {
   "cell_type": "code",
   "execution_count": 26,
   "id": "0f766c2a-b803-43a4-b1f0-0bea1cb0f83a",
   "metadata": {},
   "outputs": [
    {
     "data": {
      "image/png": "[encoded data removed]",
      "text/plain": [
       "<Figure size 432x288 with 1 Axes>"
      ]
     },
     "metadata": {
      "needs_background": "light"
     },
     "output_type": "display_data"
    },
    {
     "name": "stdout",
     "output_type": "stream",
     "text": [
      "y =  11.06139863698896 + -0.0025904978796096136 t\n"
     ]
    }
   ],
   "source": [
    "y = np.array(df['log_cases'])\n",
    "x_age = np.vander(np.array(df['upper_bound_age_group']), N=2, increasing = True)\n",
    "\n",
    "c0,c1 = la.solve(x_age.T @ x_age, x_age.T @ y)\n",
    "\n",
    "t20 = np.linspace(0,df['upper_bound_age_group'].max(),192)\n",
    "\n",
    "y20 = c0 + c1*t20\n",
    "\n",
    "plt.plot(t20,y20,'blue')\n",
    "plt.show()\n",
    "\n",
    "print('y = ',c0, '+', c1, 't')"
   ]
  },
  {
   "cell_type": "code",
   "execution_count": 27,
   "id": "dfb240a6-3b32-404c-80f7-bfa3b9d8cc40",
   "metadata": {},
   "outputs": [
    {
     "data": {
      "text/plain": [
       "<AxesSubplot:xlabel='upper_bound_age_group', ylabel='log_cases'>"
      ]
     },
     "execution_count": 27,
     "metadata": {},
     "output_type": "execute_result"
    },
    {
     "data": {
      "image/png": "[encoded data removed]",
      "text/plain": [
       "<Figure size 576x432 with 1 Axes>"
      ]
     },
     "metadata": {
      "needs_background": "light"
     },
     "output_type": "display_data"
    }
   ],
   "source": [
    "def var_scatter_age20(df, ax=None, var='upper_bound_age_group'):\n",
    "    if ax is None:\n",
    "        _, ax = plt.subplots(figsize=(8, 6))\n",
    "    df.plot.scatter(x=var , y='log_cases', alpha=0.35, s=1, ax=ax, c='black')\n",
    "    plt.plot(t20,y20,'blue')\n",
    "\n",
    "    return ax\n",
    "var_scatter_age20(df)"
   ]
  },
  {
   "cell_type": "code",
   "execution_count": 28,
   "id": "285cd675-023f-461a-ba9d-7ecc39587afd",
   "metadata": {},
   "outputs": [
    {
     "data": {
      "image/png": "[encoded data removed]",
      "text/plain": [
       "<Figure size 432x288 with 1 Axes>"
      ]
     },
     "metadata": {
      "needs_background": "light"
     },
     "output_type": "display_data"
    },
    {
     "name": "stdout",
     "output_type": "stream",
     "text": [
      "y =  10.991418251317578 + -0.10959052439296595 t\n"
     ]
    }
   ],
   "source": [
    "y = np.array(df['log_cases'])\n",
    "x_gender = np.vander(np.array(df['gender']), N=2, increasing = True)\n",
    "\n",
    "c0,c1 = la.solve(x_gender.T @ x_gender, x_gender.T @ y)\n",
    "\n",
    "t00 = np.linspace(0,df['gender'].max(),192)\n",
    "\n",
    "y00 = c0 + c1*t00\n",
    "\n",
    "plt.plot(t00,y00,'blue')\n",
    "plt.show()\n",
    "\n",
    "print('y = ',c0, '+', c1, 't')"
   ]
  },
  {
   "cell_type": "code",
   "execution_count": 29,
   "id": "411fbb2e-173f-4649-a67a-4c31c88a99d0",
   "metadata": {},
   "outputs": [
    {
     "data": {
      "text/plain": [
       "<AxesSubplot:xlabel='gender', ylabel='log_cases'>"
      ]
     },
     "execution_count": 29,
     "metadata": {},
     "output_type": "execute_result"
    },
    {
     "data": {
      "image/png": "[encoded data removed]",
      "text/plain": [
       "<Figure size 576x432 with 1 Axes>"
      ]
     },
     "metadata": {
      "needs_background": "light"
     },
     "output_type": "display_data"
    }
   ],
   "source": [
    "def var_scatter_gender0(df, ax=None, var='gender'):\n",
    "    if ax is None:\n",
    "        _, ax = plt.subplots(figsize=(8, 6))\n",
    "    df.plot.scatter(x=var , y='log_cases', alpha=0.35, s=1.5, ax=ax, c='black')\n",
    "    plt.plot(t00,y00,'blue')\n",
    "\n",
    "    return ax\n",
    "var_scatter_gender0(df)"
   ]
  },
  {
   "cell_type": "markdown",
   "id": "4308dc15-056b-428b-a810-70bbb569db15",
   "metadata": {},
   "source": [
    "### Multiple Regression"
   ]
  },
  {
   "cell_type": "markdown",
   "id": "35624b68-640e-44cc-b22d-173085804605",
   "metadata": {},
   "source": [
    "Following this formula:\n",
    "$$\n",
    "\\underbrace{\\begin{bmatrix} \\log(\\text{cases}_1) \\\\ \\log(\\text{cases}_2) \\\\ \\vdots \\\\ \\log(\\text{cases}_N)\\end{bmatrix}}_Y = \\underbrace{\\begin{bmatrix} 1 & \\text{population}_1 & \\text{age}_1 & \\text{gender}_1 \\\\ 1 & \\text{population}_2 & \\text{age}_2 & \\text{gender}_2 \\\\ \\vdots & \\vdots & \\vdots \\\\ 1 & \\text{population}_N & \\text{age}_N & \\text{gender}_N \\end{bmatrix}}_{X} \\underbrace{\\begin{bmatrix} \\beta_0 \\\\ \\beta_1 \\\\ \\beta_2 \\end{bmatrix}}_{\\beta} + \\epsilon\n",
    "$$\n",
    "\n",
    "Let's do some linear algebra!"
   ]
  },
  {
   "cell_type": "markdown",
   "id": "f31e3c72-7109-4f74-b547-4c6c439ac155",
   "metadata": {},
   "source": [
    "First, we'll start off with the upper bound for age"
   ]
  },
  {
   "cell_type": "code",
   "execution_count": 30,
   "id": "83b4a8f5-106a-4f43-9dd3-304413efc8f1",
   "metadata": {},
   "outputs": [
    {
     "name": "stdout",
     "output_type": "stream",
     "text": [
      "y =  10.22724308049305 + 1.7104452885211736e-07 population + -0.0025904978796097 age + -0.1095905243929612 gender\n"
     ]
    }
   ],
   "source": [
    "N = len(df['cases'])\n",
    "y = np.array(df['log_cases'])\n",
    "x = np.column_stack((np.ones(N), np.array(df['population']), np.array(df['upper_bound_age_group']), np.array(df['gender'])))\n",
    "\n",
    "c0,c1,c2,c3 = la.solve(x.T @ x, x.T @ y)\n",
    "\n",
    "t_pop = np.linspace(0,df['population'].max(),N)\n",
    "t_age = np.linspace(0,df['upper_bound_age_group'].max(),N)\n",
    "t_gen = np.linspace(0,df['gender'].max(),N)\n",
    "\n",
    "y_mult = c0 + c1*t_pop + c2*t_age + c3*t_gen\n",
    "\n",
    "\n",
    "print('y = ',c0, '+', c1, 'population', '+', c2, 'age', '+', c3, 'gender')"
   ]
  },
  {
   "cell_type": "markdown",
   "id": "64003428-4434-4e70-af41-3a97dbcbe7a1",
   "metadata": {},
   "source": [
    "Now, we'll do the lower bound for age"
   ]
  },
  {
   "cell_type": "code",
   "execution_count": 31,
   "id": "49a86731-ee86-48a9-9bf0-f8a542aa9cfa",
   "metadata": {},
   "outputs": [
    {
     "name": "stdout",
     "output_type": "stream",
     "text": [
      "y =  10.35014797909744 + 1.7104452885211736e-07 population + -0.007620939891454056 age + -0.1095905243929612 gender\n"
     ]
    }
   ],
   "source": [
    "N = len(df['cases'])\n",
    "y = np.array(df['log_cases'])\n",
    "x1 = np.column_stack((np.ones(N), np.array(df['population']), np.array(df['lower_bound_age_group']), np.array(df['gender'])))\n",
    "\n",
    "c0,c1,c2,c3 = la.solve(x1.T @ x1, x1.T @ y)\n",
    "\n",
    "t_pop1 = np.linspace(0,df['population'].max(),N)\n",
    "t_age1 = np.linspace(0,df['lower_bound_age_group'].max(),N)\n",
    "t_gen1 = np.linspace(0,df['gender'].max(),N)\n",
    "\n",
    "y_mult1 = c0 + c1*t_pop1 + c2*t_age1 + c3*t_gen1\n",
    "\n",
    "\n",
    "print('y = ',c0, '+', c1, 'population', '+', c2, 'age', '+', c3, 'gender')"
   ]
  },
  {
   "cell_type": "markdown",
   "id": "ede1b274-d26e-4ac9-8692-4f24edfe41db",
   "metadata": {},
   "source": [
    "## Conclusion"
   ]
  },
  {
   "cell_type": "markdown",
   "id": "6138383c-c1dd-439c-8eb6-0ef2aa1b65f5",
   "metadata": {},
   "source": [
    "In the end, I can say that I now somewhat have an idea of the number of Covid-19 cases based on factors such as population, age, and gender (proportion of people within the population under a specified gender). \n",
    "\n",
    "I can't say that my model is very accurate, I would have to run R-squared tests for that. I did have fun learning how to use matrices and vectors to do regressions; a new take on data sciences that is different from using packages. It was also very interesting to do data wrangling from scratch. "
   ]
  },
  {
   "cell_type": "markdown",
   "id": "11f4f8a1-6b30-441a-8532-a7e566510cc8",
   "metadata": {},
   "source": [
    "## Limitations"
   ]
  },
  {
   "cell_type": "markdown",
   "id": "1e094eb0-ad2e-4c69-9bcd-7e51a25ef668",
   "metadata": {},
   "source": [
    "- Didn't take time to be a variable\n",
    "- Could find more variables that minimize errors\n",
    "- Taking R-Squared to find correlation between inputs with output (using linear algebra)\n",
    "- MNAR inputs deleted\n",
    "- Use more regression analyses (needed more understanding of how to do using linear algebra)"
   ]
  },
  {
   "cell_type": "markdown",
   "id": "6bc578e5-227d-4570-b2ba-51ce2ebb9901",
   "metadata": {},
   "source": [
    "## References:\n",
    "https://www.mappr.co/thematic-maps/germany-population-states/"
   ]
  }
 ],
 "metadata": {
  "kernelspec": {
   "display_name": "Python 3 (ipykernel)",
   "language": "python",
   "name": "python3"
  },
  "language_info": {
   "codemirror_mode": {
    "name": "ipython",
    "version": 3
   },
   "file_extension": ".py",
   "mimetype": "text/x-python",
   "name": "python",
   "nbconvert_exporter": "python",
   "pygments_lexer": "ipython3",
   "version": "3.10.6"
  }
 },
 "nbformat": 4,
 "nbformat_minor": 5
}
